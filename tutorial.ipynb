{
 "cells": [
  {
   "cell_type": "code",
   "execution_count": 1,
   "id": "9b1b3225",
   "metadata": {},
   "outputs": [],
   "source": [
    "import b4p"
   ]
  },
  {
   "cell_type": "markdown",
   "id": "15eb2541",
   "metadata": {},
   "source": [
    "the library needs to be initiated to create a connection through the blockchain. The connection should be fairly quick, if it is stuck forever it is likely to be because the API keys inside the .env file are missing."
   ]
  },
  {
   "cell_type": "code",
   "execution_count": 2,
   "id": "4c9ccc4a",
   "metadata": {},
   "outputs": [
    {
     "name": "stdout",
     "output_type": "stream",
     "text": [
      "\n",
      "Launching 'ganache-cli.cmd --port 8545 --gasLimit 12000000 --accounts 10 --hardfork istanbul --mnemonic brownie --fork https://mainnet.infura.io/v3/374de38210c343f1921a77b45822edf9 --chainId 1'...\n",
      "Fetching source of 0xdB25f211AB05b1c97D595516F45794528a807ad8 from api.etherscan.io...\n",
      "Fetching source of 0x25d772b21b0e5197f2DC8169E3Aa976B16bE04aC from api.etherscan.io...\n"
     ]
    },
    {
     "name": "stderr",
     "output_type": "stream",
     "text": [
      "C:\\Python310\\lib\\site-packages\\brownie\\network\\contract.py:1174: BrownieCompilerWarning: 0xdB25f211AB05b1c97D595516F45794528a807ad8: target compiler 'v0.4.21+commit.dfe3193c' cannot be installed or is not supported by Brownie. Some debugging functionality will not be available.\n",
      "  warnings.warn(\n"
     ]
    },
    {
     "name": "stdout",
     "output_type": "stream",
     "text": [
      "Transaction sent: 0xd83baa3b94b025048d6817aff2caed90e2d42ced63a0245f852afa874c0ca147\n",
      "  Gas price: 0.0 gwei   Gas limit: 12000000   Nonce: 1\n",
      "  EURSToken.transfer confirmed   Block: 14910203   Gas used: 60170 (0.50%)\n",
      "\n",
      "Transaction sent: 0x934f0768e00a82cb81dc3343f0c6eb97396e598b27e67162ca77002c8c7443a1\n",
      "  Gas price: 0.0 gwei   Gas limit: 12000000   Nonce: 2\n",
      "  EnergyToken.constructor confirmed   Block: 14910204   Gas used: 1446924 (12.06%)\n",
      "  EnergyToken deployed at: 0xE7eD6747FaC5360f88a2EFC03E00d25789F69291\n",
      "\n",
      "Transaction sent: 0xed2dcbd320b251df7a7a67442f7f7f7f6d07be7fa04893ca1d4c398c819faf50\n",
      "  Gas price: 0.0 gwei   Gas limit: 12000000   Nonce: 3\n",
      "  MarketRegistry.constructor confirmed   Block: 14910205   Gas used: 178069 (1.48%)\n",
      "  MarketRegistry deployed at: 0x6951b5Bd815043E3F842c1b026b0Fa888Cc2DD85\n",
      "\n",
      "0x6951b5Bd815043E3F842c1b026b0Fa888Cc2DD85\n"
     ]
    }
   ],
   "source": [
    "if not b4p.started():\n",
    "    b4p.init()"
   ]
  },
  {
   "cell_type": "markdown",
   "id": "c0172234",
   "metadata": {},
   "source": [
    "accounts can be used by calling the Accounts class specifying the account name between square brakets. By default an admin account is created at initialization"
   ]
  },
  {
   "cell_type": "code",
   "execution_count": 3,
   "id": "8f693f46",
   "metadata": {},
   "outputs": [
    {
     "data": {
      "text/plain": [
       "<Account '0x66aB6D9362d4F35596279692F0251Db635165871'>"
      ]
     },
     "execution_count": 3,
     "metadata": {},
     "output_type": "execute_result"
    }
   ],
   "source": [
    "b4p.Accounts[\"admin\"]"
   ]
  },
  {
   "cell_type": "markdown",
   "id": "e848f1a2",
   "metadata": {},
   "source": [
    "but you can also create new accounts like this"
   ]
  },
  {
   "cell_type": "code",
   "execution_count": 4,
   "id": "59bb51f6",
   "metadata": {},
   "outputs": [
    {
     "name": "stdout",
     "output_type": "stream",
     "text": [
      "Transaction sent: 0x076a3198ea366f223937972698a9ec57f42bf75c6118c3e5e989aa188ea89068\n",
      "  Gas price: 0.0 gwei   Gas limit: 12000000   Nonce: 2\n",
      "  EURSToken.transfer confirmed   Block: 14910206   Gas used: 60170 (0.50%)\n",
      "\n",
      "Transaction sent: 0x7c36ba01314579d41b7a472c29d553f4bd7ce85bc5bce1998acb566835336d25\n",
      "  Gas price: 0.0 gwei   Gas limit: 12000000   Nonce: 3\n",
      "  EURSToken.transfer confirmed   Block: 14910207   Gas used: 60158 (0.50%)\n",
      "\n"
     ]
    },
    {
     "data": {
      "text/plain": [
       "<Account '0x0063046686E46Dc6F15918b61AE2B121458534a5'>"
      ]
     },
     "execution_count": 4,
     "metadata": {},
     "output_type": "execute_result"
    }
   ],
   "source": [
    "b4p.Accounts.new(\"producer\")\n",
    "b4p.Accounts.new(\"consumer\")"
   ]
  },
  {
   "cell_type": "markdown",
   "id": "79015591",
   "metadata": {},
   "source": [
    "a new market can be launced by specifying a name and the name of an account will be the market admin "
   ]
  },
  {
   "cell_type": "code",
   "execution_count": 5,
   "id": "8a8d9aec",
   "metadata": {},
   "outputs": [
    {
     "name": "stdout",
     "output_type": "stream",
     "text": [
      "Transaction sent: 0x9100da1b848cf6907b1a4e3f5642c570fbe0642c67bd8c44e5fe90e1ff27e76f\n",
      "  Gas price: 0.0 gwei   Gas limit: 12000000   Nonce: 4\n",
      "  Market.constructor confirmed   Block: 14910208   Gas used: 1524568 (12.70%)\n",
      "  Market deployed at: 0xe0aA552A10d7EC8760Fc6c246D391E698a82dDf9\n",
      "\n",
      "Transaction sent: 0x016a16e70bdd0c570862cdfe9ee084afe193c627e29e1058d6bad45c70b6624d\n",
      "  Gas price: 0.0 gwei   Gas limit: 12000000   Nonce: 4\n",
      "  EURSToken.transfer confirmed   Block: 14910209   Gas used: 60170 (0.50%)\n",
      "\n",
      "Transaction sent: 0x4e04bb002c6e151723d1d85ef73522ca3150c90b65dfa9e870a594f3631127dc\n",
      "  Gas price: 0.0 gwei   Gas limit: 12000000   Nonce: 5\n",
      "  Market.constructor confirmed   Block: 14910210   Gas used: 1509568 (12.58%)\n",
      "  Market deployed at: 0x6b4BDe1086912A6Cb24ce3dB43b3466e6c72AFd3\n",
      "\n",
      "Transaction sent: 0x7a6dea1e71dfc8637de7667a99a9ffb04285de5b462645567d983d1d29b0c597\n",
      "  Gas price: 0.0 gwei   Gas limit: 12000000   Nonce: 5\n",
      "  EURSToken.transfer confirmed   Block: 14910211   Gas used: 60170 (0.50%)\n",
      "\n"
     ]
    }
   ],
   "source": [
    "neighborhood1 = b4p.Markets.new(\"neighborhood1\", \"admin\")\n",
    "neighborhood2 = b4p.Markets.new(\"neighborhood2\", \"admin\")"
   ]
  },
  {
   "cell_type": "markdown",
   "id": "68342d73",
   "metadata": {},
   "source": [
    "by default the accounts will be created with a fee set to zero and no connection to other markets. but that can be specified differently at creation. each market can be connected to two other markets. these connections represent where the bids and offers will be go when forwarded. specifically, if an offer or bid comes from connection1 once forwarded will go to connection2 and vice versa. The market fees are specified in cents/kwh"
   ]
  },
  {
   "cell_type": "code",
   "execution_count": 6,
   "id": "c8810a95",
   "metadata": {},
   "outputs": [
    {
     "name": "stdout",
     "output_type": "stream",
     "text": [
      "Transaction sent: 0xe45c1a7f58b124504a77fb0ee95dd561e4f41e7da21ae0ec184c8c8f15ce4f5a\n",
      "  Gas price: 0.0 gwei   Gas limit: 12000000   Nonce: 6\n",
      "  Market.constructor confirmed   Block: 14910212   Gas used: 1567660 (13.06%)\n",
      "  Market deployed at: 0x9E4c14403d7d9A8A782044E86a93CAE09D7B2ac9\n",
      "\n",
      "Transaction sent: 0x143ae469dc9efac9e98d7238f5c55a06f43092c65419c9fc392c644e0583411b\n",
      "  Gas price: 0.0 gwei   Gas limit: 12000000   Nonce: 6\n",
      "  EURSToken.transfer confirmed   Block: 14910213   Gas used: 60170 (0.50%)\n",
      "\n"
     ]
    }
   ],
   "source": [
    "grid = b4p.Markets.new(\"grid\", \"admin\", fee=1, connection1=neighborhood1, connection2=neighborhood2)"
   ]
  },
  {
   "cell_type": "markdown",
   "id": "a690ae65",
   "metadata": {},
   "source": [
    "producing and consuming assets can be created by specifying a name an account and a market that's connected to it. The market that's connected to it it's the market that will receive offers and bids when created"
   ]
  },
  {
   "cell_type": "code",
   "execution_count": 7,
   "id": "94bcbc97",
   "metadata": {},
   "outputs": [
    {
     "name": "stdout",
     "output_type": "stream",
     "text": [
      "Transaction sent: 0x72f87abcf709f788ab9d2ec3b5c9eebc0965ba2ad497b9b4b6ca88e68a07168a\n",
      "  Gas price: 0.0 gwei   Gas limit: 12000000   Nonce: 5\n",
      "  ProducingAsset.constructor confirmed   Block: 14910214   Gas used: 631198 (5.26%)\n",
      "  ProducingAsset deployed at: 0x8F37Fb31d618513553fdF93e90c4C11BD8bf112c\n",
      "\n",
      "Transaction sent: 0x89d7afef9b1e12580cd87f6f62c0a27c217779c6a99abf7a5afe01ae25d7e39a\n",
      "  Gas price: 0.0 gwei   Gas limit: 12000000   Nonce: 7\n",
      "  EURSToken.transfer confirmed   Block: 14910215   Gas used: 60170 (0.50%)\n",
      "\n",
      "Transaction sent: 0x59998614883f673cd4928a50f1ef9e441f08f7c973889caaf99b61ae7f4dbeae\n",
      "  Gas price: 0.0 gwei   Gas limit: 12000000   Nonce: 0\n",
      "  ConsumingAsset.constructor confirmed   Block: 14910216   Gas used: 611100 (5.09%)\n",
      "  ConsumingAsset deployed at: 0x1596Ff8ED308a83897a731F3C1e814B19E11D68c\n",
      "\n",
      "Transaction sent: 0xc48dce359d06ea457a3eba65e3eefa87482a177e89da1037a595d03de6349987\n",
      "  Gas price: 0.0 gwei   Gas limit: 12000000   Nonce: 8\n",
      "  EURSToken.transfer confirmed   Block: 14910217   Gas used: 60170 (0.50%)\n",
      "\n",
      "Transaction sent: 0x783950f8efd483f3110c978f92db676f08dbee1c205247bb697e42bb29a84e5e\n",
      "  Gas price: 0.0 gwei   Gas limit: 12000000   Nonce: 9\n",
      "  EURSToken.transfer confirmed   Block: 14910218   Gas used: 45170 (0.38%)\n",
      "\n"
     ]
    }
   ],
   "source": [
    "solar_panel = b4p.ProducingAssets.new(\"solar panel\", \"producer\", \"neighborhood1\")\n",
    "load = b4p.ConsumingAssets.new(\"load\", \"consumer\", \"neighborhood2\")"
   ]
  },
  {
   "cell_type": "markdown",
   "id": "662d328e",
   "metadata": {},
   "source": [
    "market connections can be set through a function as well"
   ]
  },
  {
   "cell_type": "code",
   "execution_count": 8,
   "id": "68decb40",
   "metadata": {},
   "outputs": [
    {
     "name": "stdout",
     "output_type": "stream",
     "text": [
      "Transaction sent: 0x46cbf3d65a3b62e3d3fa6e6796de486df4e8a56a7963d4939b81696c3c29f9a2\n",
      "  Gas price: 0.0 gwei   Gas limit: 12000000   Nonce: 7\n",
      "  Market.setMarkets confirmed   Block: 14910219   Gas used: 18716 (0.16%)\n",
      "\n",
      "  Market.setMarkets confirmed   Block: 14910219   Gas used: 18716 (0.16%)\n",
      "\n",
      "Transaction sent: 0xce8eaae5ef0ce43b220c121cc79e024129b2c2986336d48276d09872cdeec67b\n",
      "  Gas price: 0.0 gwei   Gas limit: 12000000   Nonce: 8\n",
      "  Market.setMarkets confirmed   Block: 14910220   Gas used: 18716 (0.16%)\n",
      "\n",
      "  Market.setMarkets confirmed   Block: 14910220   Gas used: 18716 (0.16%)\n",
      "\n"
     ]
    }
   ],
   "source": [
    "neighborhood1.setConnections(\"grid\")\n",
    "neighborhood2.setConnections(\"grid\")"
   ]
  },
  {
   "cell_type": "markdown",
   "id": "e136f2c7",
   "metadata": {},
   "source": [
    "bids and offers are created with the following functions by specifying the price and the amount of energy. the bids and offer will then go to the connected markets"
   ]
  },
  {
   "cell_type": "code",
   "execution_count": 9,
   "id": "b4b41865",
   "metadata": {},
   "outputs": [
    {
     "name": "stdout",
     "output_type": "stream",
     "text": [
      "Transaction sent: 0x34e0da1988d00ddda1a876b85e7d02107db64dd81b5f05269aac5b4ff9d81867\n",
      "  Gas price: 0.0 gwei   Gas limit: 12000000   Nonce: 6\n",
      "  ProducingAsset.createOffer confirmed   Block: 14910221   Gas used: 336687 (2.81%)\n",
      "\n",
      "  ProducingAsset.createOffer confirmed   Block: 14910221   Gas used: 336687 (2.81%)\n",
      "\n",
      "Transaction sent: 0x1a53556b7793941f9a355625a29314e95c6565dcc048e649b47e254e0b4b1644\n",
      "  Gas price: 0.0 gwei   Gas limit: 12000000   Nonce: 1\n",
      "  ConsumingAsset.createBid confirmed   Block: 14910222   Gas used: 247162 (2.06%)\n",
      "\n",
      "  ConsumingAsset.createBid confirmed   Block: 14910222   Gas used: 247162 (2.06%)\n",
      "\n"
     ]
    }
   ],
   "source": [
    "solar_panel.createOffer(7, 10)\n",
    "load.createBid(10, 10)"
   ]
  },
  {
   "cell_type": "markdown",
   "id": "cb08e7ef",
   "metadata": {},
   "source": [
    "forwarding bids and offers can be done in the following way by specifying the id of the offer/bid. (Always 0 for now)"
   ]
  },
  {
   "cell_type": "code",
   "execution_count": 10,
   "id": "646c7b0b",
   "metadata": {},
   "outputs": [
    {
     "name": "stdout",
     "output_type": "stream",
     "text": [
      "Transaction sent: 0x09fb7d803eb5d55be525417a7758c3d6d1639d56fa282fd27db7b3bbff8c8ec5\n",
      "  Gas price: 0.0 gwei   Gas limit: 12000000   Nonce: 9\n",
      "  Market.forwardBid confirmed   Block: 14910223   Gas used: 121490 (1.01%)\n",
      "\n",
      "  Market.forwardBid confirmed   Block: 14910223   Gas used: 121490 (1.01%)\n",
      "\n",
      "Call trace for '0x09fb7d803eb5d55be525417a7758c3d6d1639d56fa282fd27db7b3bbff8c8ec5':\n",
      "Initial call cost  [-68808 gas]\n",
      "Market.forwardBid  0:1690  [-41676 / 100298 gas]\n",
      "├── EURSToken.transferFrom  [CALL]  274:860  [5291 / 16002 gas]\n",
      "│   └── EURSToken.transferFrom  [DELEGATECALL]  372:826  [5804 / 10711 gas]\n",
      "│       └── AbstractToken.transferFrom  614:791  [4907 gas]\n",
      "└── Market.receiveBid  [CALL]  1142:1516  [125972 gas]\n",
      "None\n",
      "Transaction sent: 0xd555e4cb03994c881e44a473ad5acb4923984bc3f8274c6e648855ee148a9283\n",
      "  Gas price: 0.0 gwei   Gas limit: 12000000   Nonce: 10\n",
      "  Market.forwardOffer confirmed   Block: 14910224   Gas used: 103766 (0.86%)\n",
      "\n",
      "  Market.forwardOffer confirmed   Block: 14910224   Gas used: 103766 (0.86%)\n",
      "\n"
     ]
    }
   ],
   "source": [
    "neighborhood2.forwardBid(0)\n",
    "neighborhood1.forwardOffer(0)"
   ]
  },
  {
   "cell_type": "markdown",
   "id": "05393ee6",
   "metadata": {},
   "source": [
    "to check the balance of accounts, assets and markets can be done the following way:"
   ]
  },
  {
   "cell_type": "code",
   "execution_count": 11,
   "id": "e79e8181",
   "metadata": {},
   "outputs": [
    {
     "name": "stdout",
     "output_type": "stream",
     "text": [
      "solar panel balance: 10.9\n",
      "load balance: 19.0\n",
      "grid market balance: 10.1\n"
     ]
    }
   ],
   "source": [
    "print(f'solar panel balance: {b4p.ProducingAssets[\"solar panel\"].balanceEURS()/100}')\n",
    "print(f'load balance: {b4p.ConsumingAssets[\"load\"].balanceEURS()/100}')\n",
    "print(f'grid market balance: {b4p.Markets[\"grid\"].balanceEURS()/100}')"
   ]
  },
  {
   "cell_type": "markdown",
   "id": "76fcab3c",
   "metadata": {},
   "source": [
    "considering that for testing purposes all accounts and smart contract start with a EURS balance of 10EUR\n",
    "the solar panel has now 10.9EUR since it accepted the bid for 10 kwh of energy at 0.1EUR each from the load asset which paid 1EUR of which the grid market took a fee of 0.01EUR/kwh = 0.1EUR. \n",
    "note that the balanceEURS() method returns the EURS balance with two decimal extra."
   ]
  }
 ],
 "metadata": {
  "kernelspec": {
   "display_name": "Python 3 (ipykernel)",
   "language": "python",
   "name": "python3"
  },
  "language_info": {
   "codemirror_mode": {
    "name": "ipython",
    "version": 3
   },
   "file_extension": ".py",
   "mimetype": "text/x-python",
   "name": "python",
   "nbconvert_exporter": "python",
   "pygments_lexer": "ipython3",
   "version": "3.10.4"
  }
 },
 "nbformat": 4,
 "nbformat_minor": 5
}
