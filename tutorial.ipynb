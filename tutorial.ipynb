{
 "cells": [
  {
   "cell_type": "code",
   "execution_count": 3,
   "id": "9b1b3225",
   "metadata": {},
   "outputs": [],
   "source": [
    "import b4p "
   ]
  },
  {
   "cell_type": "markdown",
   "id": "15eb2541",
   "metadata": {},
   "source": [
    "## Initialization\n",
    "the library needs to be initiated to create a connection through the blockchain. The connection should be fairly quick, if it is stuck forever it is likely to be because the API keys inside the .env file are missing."
   ]
  },
  {
   "cell_type": "code",
   "execution_count": 4,
   "id": "4c9ccc4a",
   "metadata": {},
   "outputs": [
    {
     "name": "stdout",
     "output_type": "stream",
     "text": [
      "0xe6D85B12C03b059F92e6020D4f815363AA0c34fA\n",
      "requesting funds from faucet...\n",
      "<Response [200]>\n",
      "new Balance 189951664375000000000\n",
      "Transaction sent: 0x332581d165f4e80bca852698e8a6675ec1461fb37ba65521d2c80872c2ebc2f8\n",
      "  Gas price: 1.0 gwei   Gas limit: 21000   Nonce: 277\n",
      "  Transaction confirmed   Block: 2140941   Gas used: 21000 (100.00%)\n",
      "\n",
      "mnemonic: 'proof picture impulse skill admit anger real ghost cannon umbrella stereo hold'\n"
     ]
    },
    {
     "ename": "ValueError",
     "evalue": "replacement transaction underpriced",
     "output_type": "error",
     "traceback": [
      "\u001b[1;31m---------------------------------------------------------------------------\u001b[0m",
      "\u001b[1;31mValueError\u001b[0m                                Traceback (most recent call last)",
      "Input \u001b[1;32mIn [4]\u001b[0m, in \u001b[0;36m<cell line: 3>\u001b[1;34m()\u001b[0m\n\u001b[0;32m      1\u001b[0m \u001b[38;5;28;01mimport\u001b[39;00m \u001b[38;5;21;01mrequests\u001b[39;00m\n\u001b[1;32m----> 3\u001b[0m account \u001b[38;5;241m=\u001b[39m \u001b[43mb4p\u001b[49m\u001b[38;5;241;43m.\u001b[39;49m\u001b[43minit_account\u001b[49m\u001b[43m(\u001b[49m\u001b[43m)\u001b[49m\n\u001b[0;32m      4\u001b[0m b4p\u001b[38;5;241m.\u001b[39minit(account)\n",
      "File \u001b[1;32m~\\Documents\\energyMarket\\b4p\\__init__.py:30\u001b[0m, in \u001b[0;36minit_account\u001b[1;34m()\u001b[0m\n\u001b[0;32m     27\u001b[0m url \u001b[38;5;241m=\u001b[39m \u001b[38;5;124m\"\u001b[39m\u001b[38;5;124mhttps://exampleURL.com\u001b[39m\u001b[38;5;124m\"\u001b[39m\n\u001b[0;32m     29\u001b[0m \u001b[38;5;28;01mfrom\u001b[39;00m \u001b[38;5;21;01m.\u001b[39;00m\u001b[38;5;21;01maccounts\u001b[39;00m \u001b[38;5;28;01mimport\u001b[39;00m Accounts\n\u001b[1;32m---> 30\u001b[0m \u001b[38;5;28mglobals\u001b[39m()[\u001b[38;5;124m\"\u001b[39m\u001b[38;5;124mAccounts\u001b[39m\u001b[38;5;124m\"\u001b[39m] \u001b[38;5;241m=\u001b[39m \u001b[43mAccounts\u001b[49m\u001b[43m(\u001b[49m\u001b[43m)\u001b[49m\n\u001b[0;32m     32\u001b[0m \u001b[38;5;28;01mfrom\u001b[39;00m \u001b[38;5;21;01m.\u001b[39;00m\u001b[38;5;21;01menergyToken\u001b[39;00m \u001b[38;5;28;01mimport\u001b[39;00m EnergyToken\n\u001b[0;32m     33\u001b[0m \u001b[38;5;28mglobals\u001b[39m()[\u001b[38;5;124m\"\u001b[39m\u001b[38;5;124mEnergyToken\u001b[39m\u001b[38;5;124m\"\u001b[39m] \u001b[38;5;241m=\u001b[39m EnergyToken()\n",
      "File \u001b[1;32m~\\Documents\\energyMarket\\b4p\\accounts.py:10\u001b[0m, in \u001b[0;36mAccounts.__init__\u001b[1;34m(self, account, faucet)\u001b[0m\n\u001b[0;32m      7\u001b[0m \u001b[38;5;28;01mif\u001b[39;00m faucet:\n\u001b[0;32m      8\u001b[0m     \u001b[38;5;28mself\u001b[39m\u001b[38;5;241m.\u001b[39maccounts[\u001b[38;5;124m\"\u001b[39m\u001b[38;5;124mfaucet\u001b[39m\u001b[38;5;124m\"\u001b[39m] \u001b[38;5;241m=\u001b[39m \u001b[38;5;28mself\u001b[39m\u001b[38;5;241m.\u001b[39mnew(\u001b[38;5;124m\"\u001b[39m\u001b[38;5;124mfaucet\u001b[39m\u001b[38;5;124m\"\u001b[39m, account\u001b[38;5;241m=\u001b[39mFaucet()\u001b[38;5;241m.\u001b[39maddress)\n\u001b[1;32m---> 10\u001b[0m \u001b[38;5;28mself\u001b[39m\u001b[38;5;241m.\u001b[39maccounts[\u001b[38;5;124m\"\u001b[39m\u001b[38;5;124madmin\u001b[39m\u001b[38;5;124m\"\u001b[39m] \u001b[38;5;241m=\u001b[39m \u001b[38;5;28;43mself\u001b[39;49m\u001b[38;5;241;43m.\u001b[39;49m\u001b[43mnew\u001b[49m\u001b[43m(\u001b[49m\u001b[38;5;124;43m\"\u001b[39;49m\u001b[38;5;124;43madmin\u001b[39;49m\u001b[38;5;124;43m\"\u001b[39;49m\u001b[43m,\u001b[49m\u001b[43m \u001b[49m\u001b[43maccount\u001b[49m\u001b[43m)\u001b[49m\n",
      "File \u001b[1;32m~\\Documents\\energyMarket\\b4p\\accounts.py:32\u001b[0m, in \u001b[0;36mAccounts.new\u001b[1;34m(self, name, account, with_funding, password)\u001b[0m\n\u001b[0;32m     30\u001b[0m     \u001b[38;5;28mself\u001b[39m\u001b[38;5;241m.\u001b[39maccounts[name] \u001b[38;5;241m=\u001b[39m Account(accounts\u001b[38;5;241m.\u001b[39mat(account, force\u001b[38;5;241m=\u001b[39m\u001b[38;5;28;01mTrue\u001b[39;00m),name)\n\u001b[0;32m     31\u001b[0m \u001b[38;5;28;01mif\u001b[39;00m with_funding:\n\u001b[1;32m---> 32\u001b[0m     \u001b[38;5;28;43mself\u001b[39;49m\u001b[38;5;241;43m.\u001b[39;49m\u001b[43maccounts\u001b[49m\u001b[43m[\u001b[49m\u001b[38;5;124;43m\"\u001b[39;49m\u001b[38;5;124;43mfaucet\u001b[39;49m\u001b[38;5;124;43m\"\u001b[39;49m\u001b[43m]\u001b[49m\u001b[38;5;241;43m.\u001b[39;49m\u001b[43mtransfer\u001b[49m\u001b[43m(\u001b[49m\u001b[38;5;28;43mself\u001b[39;49m\u001b[38;5;241;43m.\u001b[39;49m\u001b[43maccounts\u001b[49m\u001b[43m[\u001b[49m\u001b[43mname\u001b[49m\u001b[43m]\u001b[49m\u001b[38;5;241;43m.\u001b[39;49m\u001b[43maddress\u001b[49m\u001b[43m,\u001b[49m\u001b[43m \u001b[49m\u001b[38;5;124;43m\"\u001b[39;49m\u001b[38;5;124;43m1 ether\u001b[39;49m\u001b[38;5;124;43m\"\u001b[39;49m\u001b[43m)\u001b[49m\n\u001b[0;32m     33\u001b[0m \u001b[38;5;28mself\u001b[39m\u001b[38;5;241m.\u001b[39maccounts[name]\u001b[38;5;241m.\u001b[39msave(password\u001b[38;5;241m=\u001b[39mpassword)\n\u001b[0;32m     34\u001b[0m \u001b[38;5;28;01mreturn\u001b[39;00m \u001b[38;5;28mself\u001b[39m\u001b[38;5;241m.\u001b[39maccounts[name]\n",
      "File \u001b[1;32m~\\Documents\\energyMarket\\b4p\\accounts.py:57\u001b[0m, in \u001b[0;36mAccount.transfer\u001b[1;34m(self, *args, **kwargs)\u001b[0m\n\u001b[0;32m     56\u001b[0m \u001b[38;5;28;01mdef\u001b[39;00m \u001b[38;5;21mtransfer\u001b[39m(\u001b[38;5;28mself\u001b[39m, \u001b[38;5;241m*\u001b[39margs, \u001b[38;5;241m*\u001b[39m\u001b[38;5;241m*\u001b[39mkwargs):\n\u001b[1;32m---> 57\u001b[0m     \u001b[38;5;28;01mreturn\u001b[39;00m \u001b[38;5;28mself\u001b[39m\u001b[38;5;241m.\u001b[39maccount\u001b[38;5;241m.\u001b[39mtransfer(\u001b[38;5;241m*\u001b[39margs, \u001b[38;5;241m*\u001b[39m\u001b[38;5;241m*\u001b[39mkwargs)\n",
      "File \u001b[1;32mC:\\Python310\\lib\\site-packages\\brownie\\network\\account.py:644\u001b[0m, in \u001b[0;36m_PrivateKeyAccount.transfer\u001b[1;34m(self, to, amount, gas_limit, gas_buffer, gas_price, max_fee, priority_fee, data, nonce, required_confs, allow_revert, silent)\u001b[0m\n\u001b[0;32m    610\u001b[0m \u001b[38;5;28;01mdef\u001b[39;00m \u001b[38;5;21mtransfer\u001b[39m(\n\u001b[0;32m    611\u001b[0m     \u001b[38;5;28mself\u001b[39m,\n\u001b[0;32m    612\u001b[0m     to: \u001b[38;5;124m\"\u001b[39m\u001b[38;5;124mAccount\u001b[39m\u001b[38;5;124m\"\u001b[39m \u001b[38;5;241m=\u001b[39m \u001b[38;5;28;01mNone\u001b[39;00m,\n\u001b[1;32m   (...)\u001b[0m\n\u001b[0;32m    623\u001b[0m     silent: \u001b[38;5;28mbool\u001b[39m \u001b[38;5;241m=\u001b[39m \u001b[38;5;28;01mNone\u001b[39;00m,\n\u001b[0;32m    624\u001b[0m ) \u001b[38;5;241m-\u001b[39m\u001b[38;5;241m>\u001b[39m TransactionReceipt:\n\u001b[0;32m    625\u001b[0m     \u001b[38;5;124;03m\"\"\"\u001b[39;00m\n\u001b[0;32m    626\u001b[0m \u001b[38;5;124;03m    Broadcast a transaction from this account.\u001b[39;00m\n\u001b[0;32m    627\u001b[0m \n\u001b[1;32m   (...)\u001b[0m\n\u001b[0;32m    641\u001b[0m \u001b[38;5;124;03m        TransactionReceipt object\u001b[39;00m\n\u001b[0;32m    642\u001b[0m \u001b[38;5;124;03m    \"\"\"\u001b[39;00m\n\u001b[1;32m--> 644\u001b[0m     receipt, exc \u001b[38;5;241m=\u001b[39m \u001b[38;5;28;43mself\u001b[39;49m\u001b[38;5;241;43m.\u001b[39;49m\u001b[43m_make_transaction\u001b[49m\u001b[43m(\u001b[49m\n\u001b[0;32m    645\u001b[0m \u001b[43m        \u001b[49m\u001b[43mto\u001b[49m\u001b[43m,\u001b[49m\n\u001b[0;32m    646\u001b[0m \u001b[43m        \u001b[49m\u001b[43mamount\u001b[49m\u001b[43m,\u001b[49m\n\u001b[0;32m    647\u001b[0m \u001b[43m        \u001b[49m\u001b[43mgas_limit\u001b[49m\u001b[43m,\u001b[49m\n\u001b[0;32m    648\u001b[0m \u001b[43m        \u001b[49m\u001b[43mgas_buffer\u001b[49m\u001b[43m,\u001b[49m\n\u001b[0;32m    649\u001b[0m \u001b[43m        \u001b[49m\u001b[43mgas_price\u001b[49m\u001b[43m,\u001b[49m\n\u001b[0;32m    650\u001b[0m \u001b[43m        \u001b[49m\u001b[43mmax_fee\u001b[49m\u001b[43m,\u001b[49m\n\u001b[0;32m    651\u001b[0m \u001b[43m        \u001b[49m\u001b[43mpriority_fee\u001b[49m\u001b[43m,\u001b[49m\n\u001b[0;32m    652\u001b[0m \u001b[43m        \u001b[49m\u001b[43mdata\u001b[49m\u001b[43m \u001b[49m\u001b[38;5;129;43;01mor\u001b[39;49;00m\u001b[43m \u001b[49m\u001b[38;5;124;43m\"\u001b[39;49m\u001b[38;5;124;43m\"\u001b[39;49m\u001b[43m,\u001b[49m\n\u001b[0;32m    653\u001b[0m \u001b[43m        \u001b[49m\u001b[43mnonce\u001b[49m\u001b[43m,\u001b[49m\n\u001b[0;32m    654\u001b[0m \u001b[43m        \u001b[49m\u001b[38;5;124;43m\"\u001b[39;49m\u001b[38;5;124;43m\"\u001b[39;49m\u001b[43m,\u001b[49m\n\u001b[0;32m    655\u001b[0m \u001b[43m        \u001b[49m\u001b[43mrequired_confs\u001b[49m\u001b[43m,\u001b[49m\n\u001b[0;32m    656\u001b[0m \u001b[43m        \u001b[49m\u001b[43mallow_revert\u001b[49m\u001b[43m,\u001b[49m\n\u001b[0;32m    657\u001b[0m \u001b[43m        \u001b[49m\u001b[43msilent\u001b[49m\u001b[43m,\u001b[49m\n\u001b[0;32m    658\u001b[0m \u001b[43m    \u001b[49m\u001b[43m)\u001b[49m\n\u001b[0;32m    660\u001b[0m     \u001b[38;5;28;01mif\u001b[39;00m rpc\u001b[38;5;241m.\u001b[39mis_active():\n\u001b[0;32m    661\u001b[0m         undo_thread \u001b[38;5;241m=\u001b[39m threading\u001b[38;5;241m.\u001b[39mThread(\n\u001b[0;32m    662\u001b[0m             target\u001b[38;5;241m=\u001b[39mChain()\u001b[38;5;241m.\u001b[39m_add_to_undo_buffer,\n\u001b[0;32m    663\u001b[0m             args\u001b[38;5;241m=\u001b[39m(\n\u001b[1;32m   (...)\u001b[0m\n\u001b[0;32m    678\u001b[0m             daemon\u001b[38;5;241m=\u001b[39m\u001b[38;5;28;01mTrue\u001b[39;00m,\n\u001b[0;32m    679\u001b[0m         )\n",
      "File \u001b[1;32mC:\\Python310\\lib\\site-packages\\brownie\\network\\account.py:752\u001b[0m, in \u001b[0;36m_PrivateKeyAccount._make_transaction\u001b[1;34m(self, to, amount, gas_limit, gas_buffer, gas_price, max_fee, priority_fee, data, nonce, fn_name, required_confs, allow_revert, silent)\u001b[0m\n\u001b[0;32m    750\u001b[0m \u001b[38;5;28;01mexcept\u001b[39;00m \u001b[38;5;167;01mValueError\u001b[39;00m \u001b[38;5;28;01mas\u001b[39;00m e:\n\u001b[0;32m    751\u001b[0m     \u001b[38;5;28;01mif\u001b[39;00m txid \u001b[38;5;129;01mis\u001b[39;00m \u001b[38;5;28;01mNone\u001b[39;00m:\n\u001b[1;32m--> 752\u001b[0m         exc \u001b[38;5;241m=\u001b[39m \u001b[43mVirtualMachineError\u001b[49m\u001b[43m(\u001b[49m\u001b[43me\u001b[49m\u001b[43m)\u001b[49m\n\u001b[0;32m    753\u001b[0m         \u001b[38;5;28;01mif\u001b[39;00m \u001b[38;5;129;01mnot\u001b[39;00m \u001b[38;5;28mhasattr\u001b[39m(exc, \u001b[38;5;124m\"\u001b[39m\u001b[38;5;124mtxid\u001b[39m\u001b[38;5;124m\"\u001b[39m):\n\u001b[0;32m    754\u001b[0m             \u001b[38;5;28;01mraise\u001b[39;00m exc \u001b[38;5;28;01mfrom\u001b[39;00m \u001b[38;5;28mNone\u001b[39m\n",
      "File \u001b[1;32mC:\\Python310\\lib\\site-packages\\brownie\\exceptions.py:96\u001b[0m, in \u001b[0;36mVirtualMachineError.__init__\u001b[1;34m(self, exc)\u001b[0m\n\u001b[0;32m     93\u001b[0m     \u001b[38;5;28;01mraise\u001b[39;00m \u001b[38;5;167;01mValueError\u001b[39;00m(\u001b[38;5;28mstr\u001b[39m(exc)) \u001b[38;5;28;01mfrom\u001b[39;00m \u001b[38;5;28mNone\u001b[39m\n\u001b[0;32m     95\u001b[0m \u001b[38;5;28;01mif\u001b[39;00m \u001b[38;5;124m\"\u001b[39m\u001b[38;5;124mdata\u001b[39m\u001b[38;5;124m\"\u001b[39m \u001b[38;5;129;01mnot\u001b[39;00m \u001b[38;5;129;01min\u001b[39;00m exc:\n\u001b[1;32m---> 96\u001b[0m     \u001b[38;5;28;01mraise\u001b[39;00m \u001b[38;5;167;01mValueError\u001b[39;00m(exc[\u001b[38;5;124m\"\u001b[39m\u001b[38;5;124mmessage\u001b[39m\u001b[38;5;124m\"\u001b[39m]) \u001b[38;5;28;01mfrom\u001b[39;00m \u001b[38;5;28mNone\u001b[39m\n\u001b[0;32m     98\u001b[0m \u001b[38;5;28mself\u001b[39m\u001b[38;5;241m.\u001b[39mmessage: \u001b[38;5;28mstr\u001b[39m \u001b[38;5;241m=\u001b[39m exc[\u001b[38;5;124m\"\u001b[39m\u001b[38;5;124mmessage\u001b[39m\u001b[38;5;124m\"\u001b[39m]\u001b[38;5;241m.\u001b[39mrstrip(\u001b[38;5;124m\"\u001b[39m\u001b[38;5;124m.\u001b[39m\u001b[38;5;124m\"\u001b[39m)\n\u001b[0;32m    100\u001b[0m \u001b[38;5;28;01mif\u001b[39;00m \u001b[38;5;28misinstance\u001b[39m(exc[\u001b[38;5;124m\"\u001b[39m\u001b[38;5;124mdata\u001b[39m\u001b[38;5;124m\"\u001b[39m], \u001b[38;5;28mstr\u001b[39m):\n\u001b[0;32m    101\u001b[0m     \u001b[38;5;66;03m# handle parity exceptions - this logic probably is not perfect\u001b[39;00m\n",
      "\u001b[1;31mValueError\u001b[0m: replacement transaction underpriced"
     ]
    }
   ],
   "source": [
    "import requests\n",
    "\n",
    "account = b4p.init_account()\n",
    "b4p.init(account)\n",
    "\n"
   ]
  },
  {
   "cell_type": "code",
   "execution_count": 3,
   "id": "7a064777",
   "metadata": {},
   "outputs": [
    {
     "ename": "AttributeError",
     "evalue": "module 'b4p' has no attribute 'Accounts'",
     "output_type": "error",
     "traceback": [
      "\u001b[1;31m---------------------------------------------------------------------------\u001b[0m",
      "\u001b[1;31mAttributeError\u001b[0m                            Traceback (most recent call last)",
      "Input \u001b[1;32mIn [3]\u001b[0m, in \u001b[0;36m<cell line: 1>\u001b[1;34m()\u001b[0m\n\u001b[1;32m----> 1\u001b[0m \u001b[43mb4p\u001b[49m\u001b[38;5;241;43m.\u001b[39;49m\u001b[43mAccounts\u001b[49m[\u001b[38;5;124m'\u001b[39m\u001b[38;5;124madmin\u001b[39m\u001b[38;5;124m'\u001b[39m]\u001b[38;5;241m.\u001b[39mbalance()\n",
      "\u001b[1;31mAttributeError\u001b[0m: module 'b4p' has no attribute 'Accounts'"
     ]
    }
   ],
   "source": [
    "b4p.Accounts['admin'].balance()"
   ]
  },
  {
   "cell_type": "code",
   "execution_count": null,
   "id": "76103e7b",
   "metadata": {},
   "outputs": [],
   "source": [
    "public_key = 'account_admin.accounts['admin'].account.address'\n",
    "requests.post('https://bc4p.nowum.fh-aachen.de/faucet/api/add_key', data= {'public_key': public_key})\n"
   ]
  },
  {
   "cell_type": "code",
   "execution_count": null,
   "id": "130f46a0",
   "metadata": {},
   "outputs": [],
   "source": []
  },
  {
   "cell_type": "code",
   "execution_count": null,
   "id": "962f8923",
   "metadata": {},
   "outputs": [],
   "source": [
    "\n",
    "if not b4p.started():\n",
    "    b4p.init(account = account_admin)"
   ]
  },
  {
   "cell_type": "markdown",
   "id": "c0172234",
   "metadata": {},
   "source": [
    "## Accounts\n",
    "accounts can be used by calling the Accounts class specifying the account name between square brakets. By default an admin account is created at initialization"
   ]
  },
  {
   "cell_type": "code",
   "execution_count": null,
   "id": "8f693f46",
   "metadata": {},
   "outputs": [],
   "source": [
    "b4p.Accounts[\"admin\"]"
   ]
  },
  {
   "cell_type": "markdown",
   "id": "bb0c326c",
   "metadata": {},
   "source": [
    "# How To transfer EUR to this account ???? (EUROTOken from Howest, specifically, how to transfer those?)"
   ]
  },
  {
   "cell_type": "code",
   "execution_count": null,
   "id": "71f66842",
   "metadata": {},
   "outputs": [],
   "source": [
    "#How to transfer EUR to specific address????\n",
    "\n",
    "#b4p.EURS.transferFrom('0x2a276aeca03cc7704a5a90a04959d9207bd0fe95',b4p.Accounts[\"admin\"], 100, {'from': '0x2a276aeca03cc7704a5a90a04959d9207bd0fe95'})\n",
    " \n",
    "#b4p.EURS.approve(b4p.Accounts[\"admin\"],100,{\"from\":  b4p.Accounts[\"admin\"]}) #any address that is known would work!"
   ]
  },
  {
   "cell_type": "markdown",
   "id": "24c48123",
   "metadata": {},
   "source": [
    "# Ignore code Below for the moment"
   ]
  },
  {
   "cell_type": "markdown",
   "id": "e848f1a2",
   "metadata": {},
   "source": [
    "but you can also create new accounts like this"
   ]
  },
  {
   "cell_type": "code",
   "execution_count": null,
   "id": "59bb51f6",
   "metadata": {},
   "outputs": [],
   "source": [
    "b4p.Accounts.new(\"producer\")\n",
    "b4p.Accounts.new(\"consumer\")"
   ]
  },
  {
   "cell_type": "markdown",
   "id": "79015591",
   "metadata": {},
   "source": [
    "## Creating Markets\n",
    "a new market can be launced by specifying a name and the name of an account will be the market admin "
   ]
  },
  {
   "cell_type": "code",
   "execution_count": null,
   "id": "8a8d9aec",
   "metadata": {},
   "outputs": [],
   "source": [
    "neighborhood1 = b4p.Markets.new(\"neighborhood1\", \"admin\")\n",
    "neighborhood2 = b4p.Markets.new(\"neighborhood2\", \"admin\")"
   ]
  },
  {
   "cell_type": "markdown",
   "id": "68342d73",
   "metadata": {},
   "source": [
    "by default the accounts will be created with a fee set to zero and no connection to other markets. but that can be specified differently at creation. each market can be connected to two other markets. these connections represent where the bids and offers will be go when forwarded. specifically, if an offer or bid comes from connection1 once forwarded will go to connection2 and vice versa. The market fees are specified in cents/kwh"
   ]
  },
  {
   "cell_type": "code",
   "execution_count": null,
   "id": "c8810a95",
   "metadata": {},
   "outputs": [],
   "source": [
    "grid = b4p.Markets.new(\"grid\", \"admin\", fee=1, connection1=neighborhood1, connection2=neighborhood2)"
   ]
  },
  {
   "cell_type": "markdown",
   "id": "a690ae65",
   "metadata": {},
   "source": [
    "## Creating producing and consuming assets\n",
    "producing and consuming assets can be created by specifying a name an account and a market that's connected to it. The market that's connected to it it's the market that will receive offers and bids when created"
   ]
  },
  {
   "cell_type": "code",
   "execution_count": null,
   "id": "94bcbc97",
   "metadata": {},
   "outputs": [],
   "source": [
    "solar_panel = b4p.ProducingAssets.new(\"solar panel\", \"producer\", \"neighborhood1\")\n",
    "load = b4p.ConsumingAssets.new(\"load\", \"consumer\", \"neighborhood2\")"
   ]
  },
  {
   "cell_type": "markdown",
   "id": "662d328e",
   "metadata": {},
   "source": [
    "market connections can be set through a function as well"
   ]
  },
  {
   "cell_type": "code",
   "execution_count": null,
   "id": "68decb40",
   "metadata": {},
   "outputs": [],
   "source": [
    "neighborhood1.setConnections(\"grid\")\n",
    "neighborhood2.setConnections(\"grid\")"
   ]
  },
  {
   "cell_type": "markdown",
   "id": "e136f2c7",
   "metadata": {},
   "source": [
    "## Creating bids/offers\n",
    "bids and offers are created with the following functions by specifying the price and the amount of energy. the bids and offer will then go to the connected markets"
   ]
  },
  {
   "cell_type": "code",
   "execution_count": null,
   "id": "b4b41865",
   "metadata": {},
   "outputs": [],
   "source": [
    "solar_panel.createOffer(7, 10)\n",
    "load.createBid(10, 10)"
   ]
  },
  {
   "cell_type": "markdown",
   "id": "cb08e7ef",
   "metadata": {},
   "source": [
    "## Forwarding bids/offers\n",
    "forwarding bids and offers can be done in the following way by specifying the id of the offer/bid. (Always 0 for now)"
   ]
  },
  {
   "cell_type": "code",
   "execution_count": null,
   "id": "646c7b0b",
   "metadata": {},
   "outputs": [],
   "source": [
    "neighborhood2.forwardBid(0)\n",
    "neighborhood1.forwardOffer(0)"
   ]
  },
  {
   "cell_type": "markdown",
   "id": "05393ee6",
   "metadata": {},
   "source": [
    "### to check the balance of accounts, assets and markets can be done the following way:"
   ]
  },
  {
   "cell_type": "code",
   "execution_count": null,
   "id": "e79e8181",
   "metadata": {},
   "outputs": [],
   "source": [
    "print(f'solar panel balance: {b4p.ProducingAssets[\"solar panel\"].balanceEURS()/100}')\n",
    "print(f'load balance: {b4p.ConsumingAssets[\"load\"].balanceEURS()/100}')\n",
    "print(f'grid market balance: {b4p.Markets[\"grid\"].balanceEURS()/100}')"
   ]
  },
  {
   "cell_type": "markdown",
   "id": "76fcab3c",
   "metadata": {},
   "source": [
    "considering that for testing purposes all accounts and smart contract start with a EURS balance of 10EUR the solar panel has now 10.9EUR since it accepted the bid for 10 kwh of energy at 0.1EUR each from the load asset which paid 1EUR of which the grid market took a fee of 0.01EUR/kwh = 0.1EUR. \n",
    "note that the balanceEURS() method returns the EURS balance with two decimal extra."
   ]
  }
 ],
 "metadata": {
  "kernelspec": {
   "display_name": "Python 3 (ipykernel)",
   "language": "python",
   "name": "python3"
  },
  "language_info": {
   "codemirror_mode": {
    "name": "ipython",
    "version": 3
   },
   "file_extension": ".py",
   "mimetype": "text/x-python",
   "name": "python",
   "nbconvert_exporter": "python",
   "pygments_lexer": "ipython3",
   "version": "3.10.4"
  },
  "vscode": {
   "interpreter": {
    "hash": "1750db6e03d20d3ef844e9a5882095fa2a679a615b673f0328d53764abbf3506"
   }
  }
 },
 "nbformat": 4,
 "nbformat_minor": 5
}
