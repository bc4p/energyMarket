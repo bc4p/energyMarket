{
 "cells": [
  {
   "cell_type": "code",
   "execution_count": 1,
   "id": "9b1b3225",
   "metadata": {},
   "outputs": [],
   "source": [
    "import b4p"
   ]
  },
  {
   "cell_type": "markdown",
   "id": "15eb2541",
   "metadata": {},
   "source": [
    "## Initialization\n",
    "the library needs to be initiated to create a connection through the blockchain. The connection should be fairly quick, if it is stuck forever it is likely to be because the API keys inside the .env file are missing."
   ]
  },
  {
   "cell_type": "code",
   "execution_count": 2,
   "id": "4c9ccc4a",
   "metadata": {},
   "outputs": [
    {
     "name": "stdout",
     "output_type": "stream",
     "text": [
      "mnemonic: '\u001b[0;1;36mfield odor daughter magic use fit undo melody oval wool plate stumble\u001b[0;m'\n"
     ]
    },
    {
     "data": {
      "text/plain": [
       "<LocalAccount '0x33442981e825D16a195FbC165E046E8340d75DEB'>"
      ]
     },
     "execution_count": 2,
     "metadata": {},
     "output_type": "execute_result"
    }
   ],
   "source": [
    "\n",
    "\n",
    "account_admin = b4p.init_account()\n",
    "\n",
    "account_admin.accounts['admin']\n",
    "#to faucet ! 5 eth\n",
    "#https://bc4p.nowum.fh-aachen.de/faucet"
   ]
  },
  {
   "cell_type": "code",
   "execution_count": 3,
   "id": "962f8923",
   "metadata": {},
   "outputs": [
    {
     "name": "stdout",
     "output_type": "stream",
     "text": [
      "Transaction sent: \u001b[0;1;34m0x818c2894329b0e9573e8efe7ce41ebd0f0daba9ac16f02a4721278c08e557827\u001b[0;m\n",
      "  Gas price: \u001b[0;1;34m1.0\u001b[0;m gwei   Gas limit: \u001b[0;1;34m1977518\u001b[0;m   Nonce: \u001b[0;1;34m0\u001b[0;m\n",
      "  EnergyToken.constructor confirmed   Block: \u001b[0;1;34m1664099\u001b[0;m   Gas used: \u001b[0;1;34m1797744\u001b[0;m (\u001b[0;1;34m90.91%\u001b[0;m)\n",
      "  EnergyToken deployed at: \u001b[0;1;34m0x3170128145365Eb644AA1BAd48F4A2d4f8634111\u001b[0;m\n",
      "\n",
      "Transaction sent: \u001b[0;1;34m0x0e2d23dd721819f12027bf2352190f14adf1453ae142ebf1291d7b096f9c2bb7\u001b[0;m\n",
      "  Gas price: \u001b[0;1;34m1.0\u001b[0;m gwei   Gas limit: \u001b[0;1;34m228594\u001b[0;m   Nonce: \u001b[0;1;34m1\u001b[0;m\n",
      "  MarketRegistry.constructor confirmed   Block: \u001b[0;1;34m1664100\u001b[0;m   Gas used: \u001b[0;1;34m207813\u001b[0;m (\u001b[0;1;34m90.91%\u001b[0;m)\n",
      "  MarketRegistry deployed at: \u001b[0;1;34m0x3241eCDcB8E0b2CA76A115f4407965d8108DAA6e\u001b[0;m\n",
      "\n",
      "0x3241eCDcB8E0b2CA76A115f4407965d8108DAA6e\n"
     ]
    }
   ],
   "source": [
    "\n",
    "if not b4p.started():\n",
    "    b4p.init(account = account_admin)"
   ]
  },
  {
   "cell_type": "markdown",
   "id": "c0172234",
   "metadata": {},
   "source": [
    "## Accounts\n",
    "accounts can be used by calling the Accounts class specifying the account name between square brakets. By default an admin account is created at initialization"
   ]
  },
  {
   "cell_type": "code",
   "execution_count": 4,
   "id": "8f693f46",
   "metadata": {},
   "outputs": [
    {
     "data": {
      "text/plain": [
       "<LocalAccount '0x33442981e825D16a195FbC165E046E8340d75DEB'>"
      ]
     },
     "execution_count": 4,
     "metadata": {},
     "output_type": "execute_result"
    }
   ],
   "source": [
    "b4p.Accounts[\"admin\"]"
   ]
  },
  {
   "cell_type": "code",
   "execution_count": 19,
   "id": "71f66842",
   "metadata": {},
   "outputs": [
    {
     "ename": "ValueError",
     "evalue": "Gas estimation failed: 'execution reverted: ERC20: insufficient allowance'. This transaction will likely revert. If you wish to broadcast, you must set the gas limit manually.",
     "output_type": "error",
     "traceback": [
      "\u001b[0;31m---------------------------------------------------------------------------\u001b[0m",
      "\u001b[0;31mValueError\u001b[0m                                Traceback (most recent call last)",
      "Cell \u001b[0;32mIn [19], line 1\u001b[0m\n\u001b[0;32m----> 1\u001b[0m b4p\u001b[39m.\u001b[39mEURS\u001b[39m.\u001b[39mtransferFrom(\u001b[39m'\u001b[39m\u001b[39m0x2a276aeca03cc7704a5a90a04959d9207bd0fe95\u001b[39m\u001b[39m'\u001b[39m,b4p\u001b[39m.\u001b[39mAccounts[\u001b[39m\"\u001b[39m\u001b[39madmin\u001b[39m\u001b[39m\"\u001b[39m], \u001b[39m100\u001b[39m, {\u001b[39m'\u001b[39m\u001b[39mfrom\u001b[39m\u001b[39m'\u001b[39m: \u001b[39m'\u001b[39m\u001b[39m0x2a276aeca03cc7704a5a90a04959d9207bd0fe95\u001b[39m\u001b[39m'\u001b[39m})\n",
      "File \u001b[0;32m~/anaconda3/envs/bc4p/lib/python3.10/site-packages/brownie/network/contract.py:1861\u001b[0m, in \u001b[0;36mContractTx.__call__\u001b[0;34m(self, *args)\u001b[0m\n\u001b[1;32m   1845\u001b[0m \u001b[39mdef\u001b[39;00m \u001b[39m__call__\u001b[39m(\u001b[39mself\u001b[39m, \u001b[39m*\u001b[39margs: Tuple) \u001b[39m-\u001b[39m\u001b[39m>\u001b[39m TransactionReceiptType:\n\u001b[1;32m   1846\u001b[0m     \u001b[39m\"\"\"\u001b[39;00m\n\u001b[1;32m   1847\u001b[0m \u001b[39m    Broadcast a transaction that calls this contract method.\u001b[39;00m\n\u001b[1;32m   1848\u001b[0m \n\u001b[0;32m   (...)\u001b[0m\n\u001b[1;32m   1858\u001b[0m \u001b[39m        Object representing the broadcasted transaction.\u001b[39;00m\n\u001b[1;32m   1859\u001b[0m \u001b[39m    \"\"\"\u001b[39;00m\n\u001b[0;32m-> 1861\u001b[0m     \u001b[39mreturn\u001b[39;00m \u001b[39mself\u001b[39;49m\u001b[39m.\u001b[39;49mtransact(\u001b[39m*\u001b[39;49margs)\n",
      "File \u001b[0;32m~/anaconda3/envs/bc4p/lib/python3.10/site-packages/brownie/network/contract.py:1734\u001b[0m, in \u001b[0;36m_ContractMethod.transact\u001b[0;34m(self, *args)\u001b[0m\n\u001b[1;32m   1728\u001b[0m \u001b[39mif\u001b[39;00m \u001b[39mnot\u001b[39;00m tx[\u001b[39m\"\u001b[39m\u001b[39mfrom\u001b[39m\u001b[39m\"\u001b[39m]:\n\u001b[1;32m   1729\u001b[0m     \u001b[39mraise\u001b[39;00m \u001b[39mAttributeError\u001b[39;00m(\n\u001b[1;32m   1730\u001b[0m         \u001b[39m\"\u001b[39m\u001b[39mFinal argument must be a dict of transaction parameters that \u001b[39m\u001b[39m\"\u001b[39m\n\u001b[1;32m   1731\u001b[0m         \u001b[39m\"\u001b[39m\u001b[39mincludes a `from` field specifying the sender of the transaction\u001b[39m\u001b[39m\"\u001b[39m\n\u001b[1;32m   1732\u001b[0m     )\n\u001b[0;32m-> 1734\u001b[0m \u001b[39mreturn\u001b[39;00m tx[\u001b[39m\"\u001b[39;49m\u001b[39mfrom\u001b[39;49m\u001b[39m\"\u001b[39;49m]\u001b[39m.\u001b[39;49mtransfer(\n\u001b[1;32m   1735\u001b[0m     \u001b[39mself\u001b[39;49m\u001b[39m.\u001b[39;49m_address,\n\u001b[1;32m   1736\u001b[0m     tx[\u001b[39m\"\u001b[39;49m\u001b[39mvalue\u001b[39;49m\u001b[39m\"\u001b[39;49m],\n\u001b[1;32m   1737\u001b[0m     gas_limit\u001b[39m=\u001b[39;49mtx[\u001b[39m\"\u001b[39;49m\u001b[39mgas\u001b[39;49m\u001b[39m\"\u001b[39;49m],\n\u001b[1;32m   1738\u001b[0m     gas_buffer\u001b[39m=\u001b[39;49mtx\u001b[39m.\u001b[39;49mget(\u001b[39m\"\u001b[39;49m\u001b[39mgas_buffer\u001b[39;49m\u001b[39m\"\u001b[39;49m),\n\u001b[1;32m   1739\u001b[0m     gas_price\u001b[39m=\u001b[39;49mtx\u001b[39m.\u001b[39;49mget(\u001b[39m\"\u001b[39;49m\u001b[39mgas_price\u001b[39;49m\u001b[39m\"\u001b[39;49m),\n\u001b[1;32m   1740\u001b[0m     max_fee\u001b[39m=\u001b[39;49mtx\u001b[39m.\u001b[39;49mget(\u001b[39m\"\u001b[39;49m\u001b[39mmax_fee\u001b[39;49m\u001b[39m\"\u001b[39;49m),\n\u001b[1;32m   1741\u001b[0m     priority_fee\u001b[39m=\u001b[39;49mtx\u001b[39m.\u001b[39;49mget(\u001b[39m\"\u001b[39;49m\u001b[39mpriority_fee\u001b[39;49m\u001b[39m\"\u001b[39;49m),\n\u001b[1;32m   1742\u001b[0m     nonce\u001b[39m=\u001b[39;49mtx[\u001b[39m\"\u001b[39;49m\u001b[39mnonce\u001b[39;49m\u001b[39m\"\u001b[39;49m],\n\u001b[1;32m   1743\u001b[0m     required_confs\u001b[39m=\u001b[39;49mtx[\u001b[39m\"\u001b[39;49m\u001b[39mrequired_confs\u001b[39;49m\u001b[39m\"\u001b[39;49m],\n\u001b[1;32m   1744\u001b[0m     data\u001b[39m=\u001b[39;49m\u001b[39mself\u001b[39;49m\u001b[39m.\u001b[39;49mencode_input(\u001b[39m*\u001b[39;49margs),\n\u001b[1;32m   1745\u001b[0m     allow_revert\u001b[39m=\u001b[39;49mtx[\u001b[39m\"\u001b[39;49m\u001b[39mallow_revert\u001b[39;49m\u001b[39m\"\u001b[39;49m],\n\u001b[1;32m   1746\u001b[0m )\n",
      "File \u001b[0;32m~/anaconda3/envs/bc4p/lib/python3.10/site-packages/brownie/network/account.py:644\u001b[0m, in \u001b[0;36m_PrivateKeyAccount.transfer\u001b[0;34m(self, to, amount, gas_limit, gas_buffer, gas_price, max_fee, priority_fee, data, nonce, required_confs, allow_revert, silent)\u001b[0m\n\u001b[1;32m    610\u001b[0m \u001b[39mdef\u001b[39;00m \u001b[39mtransfer\u001b[39m(\n\u001b[1;32m    611\u001b[0m     \u001b[39mself\u001b[39m,\n\u001b[1;32m    612\u001b[0m     to: \u001b[39m\"\u001b[39m\u001b[39mAccount\u001b[39m\u001b[39m\"\u001b[39m \u001b[39m=\u001b[39m \u001b[39mNone\u001b[39;00m,\n\u001b[0;32m   (...)\u001b[0m\n\u001b[1;32m    623\u001b[0m     silent: \u001b[39mbool\u001b[39m \u001b[39m=\u001b[39m \u001b[39mNone\u001b[39;00m,\n\u001b[1;32m    624\u001b[0m ) \u001b[39m-\u001b[39m\u001b[39m>\u001b[39m TransactionReceipt:\n\u001b[1;32m    625\u001b[0m     \u001b[39m\"\"\"\u001b[39;00m\n\u001b[1;32m    626\u001b[0m \u001b[39m    Broadcast a transaction from this account.\u001b[39;00m\n\u001b[1;32m    627\u001b[0m \n\u001b[0;32m   (...)\u001b[0m\n\u001b[1;32m    641\u001b[0m \u001b[39m        TransactionReceipt object\u001b[39;00m\n\u001b[1;32m    642\u001b[0m \u001b[39m    \"\"\"\u001b[39;00m\n\u001b[0;32m--> 644\u001b[0m     receipt, exc \u001b[39m=\u001b[39m \u001b[39mself\u001b[39;49m\u001b[39m.\u001b[39;49m_make_transaction(\n\u001b[1;32m    645\u001b[0m         to,\n\u001b[1;32m    646\u001b[0m         amount,\n\u001b[1;32m    647\u001b[0m         gas_limit,\n\u001b[1;32m    648\u001b[0m         gas_buffer,\n\u001b[1;32m    649\u001b[0m         gas_price,\n\u001b[1;32m    650\u001b[0m         max_fee,\n\u001b[1;32m    651\u001b[0m         priority_fee,\n\u001b[1;32m    652\u001b[0m         data \u001b[39mor\u001b[39;49;00m \u001b[39m\"\u001b[39;49m\u001b[39m\"\u001b[39;49m,\n\u001b[1;32m    653\u001b[0m         nonce,\n\u001b[1;32m    654\u001b[0m         \u001b[39m\"\u001b[39;49m\u001b[39m\"\u001b[39;49m,\n\u001b[1;32m    655\u001b[0m         required_confs,\n\u001b[1;32m    656\u001b[0m         allow_revert,\n\u001b[1;32m    657\u001b[0m         silent,\n\u001b[1;32m    658\u001b[0m     )\n\u001b[1;32m    660\u001b[0m     \u001b[39mif\u001b[39;00m rpc\u001b[39m.\u001b[39mis_active():\n\u001b[1;32m    661\u001b[0m         undo_thread \u001b[39m=\u001b[39m threading\u001b[39m.\u001b[39mThread(\n\u001b[1;32m    662\u001b[0m             target\u001b[39m=\u001b[39mChain()\u001b[39m.\u001b[39m_add_to_undo_buffer,\n\u001b[1;32m    663\u001b[0m             args\u001b[39m=\u001b[39m(\n\u001b[0;32m   (...)\u001b[0m\n\u001b[1;32m    678\u001b[0m             daemon\u001b[39m=\u001b[39m\u001b[39mTrue\u001b[39;00m,\n\u001b[1;32m    679\u001b[0m         )\n",
      "File \u001b[0;32m~/anaconda3/envs/bc4p/lib/python3.10/site-packages/brownie/network/account.py:727\u001b[0m, in \u001b[0;36m_PrivateKeyAccount._make_transaction\u001b[0;34m(self, to, amount, gas_limit, gas_buffer, gas_price, max_fee, priority_fee, data, nonce, fn_name, required_confs, allow_revert, silent)\u001b[0m\n\u001b[1;32m    723\u001b[0m     gas_limit \u001b[39m=\u001b[39m Wei(gas_limit) \u001b[39mor\u001b[39;00m \u001b[39mself\u001b[39m\u001b[39m.\u001b[39m_gas_limit(\n\u001b[1;32m    724\u001b[0m         to, amount, gas_price \u001b[39mor\u001b[39;00m max_fee, gas_buffer, data\n\u001b[1;32m    725\u001b[0m     )\n\u001b[1;32m    726\u001b[0m \u001b[39mexcept\u001b[39;00m \u001b[39mValueError\u001b[39;00m \u001b[39mas\u001b[39;00m e:\n\u001b[0;32m--> 727\u001b[0m     \u001b[39mraise\u001b[39;00m VirtualMachineError(e) \u001b[39mfrom\u001b[39;00m \u001b[39mNone\u001b[39m\n\u001b[1;32m    729\u001b[0m \u001b[39mwith\u001b[39;00m \u001b[39mself\u001b[39m\u001b[39m.\u001b[39m_lock:\n\u001b[1;32m    730\u001b[0m     \u001b[39m# we use a lock here to prevent nonce issues when sending many tx's at once\u001b[39;00m\n\u001b[1;32m    731\u001b[0m     tx \u001b[39m=\u001b[39m {\n\u001b[1;32m    732\u001b[0m         \u001b[39m\"\u001b[39m\u001b[39mfrom\u001b[39m\u001b[39m\"\u001b[39m: \u001b[39mself\u001b[39m\u001b[39m.\u001b[39maddress,\n\u001b[1;32m    733\u001b[0m         \u001b[39m\"\u001b[39m\u001b[39mvalue\u001b[39m\u001b[39m\"\u001b[39m: Wei(amount),\n\u001b[0;32m   (...)\u001b[0m\n\u001b[1;32m    736\u001b[0m         \u001b[39m\"\u001b[39m\u001b[39mdata\u001b[39m\u001b[39m\"\u001b[39m: HexBytes(data),\n\u001b[1;32m    737\u001b[0m     }\n",
      "File \u001b[0;32m~/anaconda3/envs/bc4p/lib/python3.10/site-packages/brownie/exceptions.py:93\u001b[0m, in \u001b[0;36mVirtualMachineError.__init__\u001b[0;34m(self, exc)\u001b[0m\n\u001b[1;32m     90\u001b[0m     \u001b[39mpass\u001b[39;00m\n\u001b[1;32m     92\u001b[0m \u001b[39mif\u001b[39;00m \u001b[39mnot\u001b[39;00m (\u001b[39misinstance\u001b[39m(exc, \u001b[39mdict\u001b[39m) \u001b[39mand\u001b[39;00m \u001b[39m\"\u001b[39m\u001b[39mmessage\u001b[39m\u001b[39m\"\u001b[39m \u001b[39min\u001b[39;00m exc):\n\u001b[0;32m---> 93\u001b[0m     \u001b[39mraise\u001b[39;00m \u001b[39mValueError\u001b[39;00m(\u001b[39mstr\u001b[39m(exc)) \u001b[39mfrom\u001b[39;00m \u001b[39mNone\u001b[39m\n\u001b[1;32m     95\u001b[0m \u001b[39mif\u001b[39;00m \u001b[39m\"\u001b[39m\u001b[39mdata\u001b[39m\u001b[39m\"\u001b[39m \u001b[39mnot\u001b[39;00m \u001b[39min\u001b[39;00m exc:\n\u001b[1;32m     96\u001b[0m     \u001b[39mraise\u001b[39;00m \u001b[39mValueError\u001b[39;00m(exc[\u001b[39m\"\u001b[39m\u001b[39mmessage\u001b[39m\u001b[39m\"\u001b[39m]) \u001b[39mfrom\u001b[39;00m \u001b[39mNone\u001b[39m\n",
      "\u001b[0;31mValueError\u001b[0m: Gas estimation failed: 'execution reverted: ERC20: insufficient allowance'. This transaction will likely revert. If you wish to broadcast, you must set the gas limit manually."
     ]
    }
   ],
   "source": [
    "#How to transfer EUR to specific address????\n",
    "\n",
    "#b4p.EURS.transferFrom('0x2a276aeca03cc7704a5a90a04959d9207bd0fe95',b4p.Accounts[\"admin\"], 100, {'from': '0x2a276aeca03cc7704a5a90a04959d9207bd0fe95'})\n",
    " \n",
    "#b4p.EURS.approve(b4p.Accounts[\"admin\"],100,{\"from\":  b4p.Accounts[\"admin\"]}) #any address that is known would work!"
   ]
  },
  {
   "cell_type": "markdown",
   "id": "e848f1a2",
   "metadata": {},
   "source": [
    "but you can also create new accounts like this"
   ]
  },
  {
   "cell_type": "code",
   "execution_count": 6,
   "id": "59bb51f6",
   "metadata": {},
   "outputs": [
    {
     "ename": "AttributeError",
     "evalue": "module 'b4p' has no attribute 'Accounts'",
     "output_type": "error",
     "traceback": [
      "\u001b[0;31m---------------------------------------------------------------------------\u001b[0m",
      "\u001b[0;31mAttributeError\u001b[0m                            Traceback (most recent call last)",
      "Cell \u001b[0;32mIn [6], line 1\u001b[0m\n\u001b[0;32m----> 1\u001b[0m b4p\u001b[39m.\u001b[39mAccounts\u001b[39m.\u001b[39mnew(\u001b[39m\"\u001b[39m\u001b[39mproducer\u001b[39m\u001b[39m\"\u001b[39m)\n\u001b[1;32m      2\u001b[0m b4p\u001b[39m.\u001b[39mAccounts\u001b[39m.\u001b[39mnew(\u001b[39m\"\u001b[39m\u001b[39mconsumer\u001b[39m\u001b[39m\"\u001b[39m)\n",
      "\u001b[0;31mAttributeError\u001b[0m: module 'b4p' has no attribute 'Accounts'"
     ]
    }
   ],
   "source": [
    "b4p.Accounts.new(\"producer\")\n",
    "b4p.Accounts.new(\"consumer\")"
   ]
  },
  {
   "cell_type": "markdown",
   "id": "79015591",
   "metadata": {},
   "source": [
    "## Creating Markets\n",
    "a new market can be launced by specifying a name and the name of an account will be the market admin "
   ]
  },
  {
   "cell_type": "code",
   "execution_count": 7,
   "id": "8a8d9aec",
   "metadata": {},
   "outputs": [
    {
     "ename": "AttributeError",
     "evalue": "module 'b4p' has no attribute 'Markets'",
     "output_type": "error",
     "traceback": [
      "\u001b[0;31m---------------------------------------------------------------------------\u001b[0m",
      "\u001b[0;31mAttributeError\u001b[0m                            Traceback (most recent call last)",
      "Cell \u001b[0;32mIn [7], line 1\u001b[0m\n\u001b[0;32m----> 1\u001b[0m neighborhood1 \u001b[39m=\u001b[39m b4p\u001b[39m.\u001b[39mMarkets\u001b[39m.\u001b[39mnew(\u001b[39m\"\u001b[39m\u001b[39mneighborhood1\u001b[39m\u001b[39m\"\u001b[39m, \u001b[39m\"\u001b[39m\u001b[39madmin\u001b[39m\u001b[39m\"\u001b[39m)\n\u001b[1;32m      2\u001b[0m neighborhood2 \u001b[39m=\u001b[39m b4p\u001b[39m.\u001b[39mMarkets\u001b[39m.\u001b[39mnew(\u001b[39m\"\u001b[39m\u001b[39mneighborhood2\u001b[39m\u001b[39m\"\u001b[39m, \u001b[39m\"\u001b[39m\u001b[39madmin\u001b[39m\u001b[39m\"\u001b[39m)\n",
      "\u001b[0;31mAttributeError\u001b[0m: module 'b4p' has no attribute 'Markets'"
     ]
    }
   ],
   "source": [
    "neighborhood1 = b4p.Markets.new(\"neighborhood1\", \"admin\")\n",
    "neighborhood2 = b4p.Markets.new(\"neighborhood2\", \"admin\")"
   ]
  },
  {
   "cell_type": "markdown",
   "id": "68342d73",
   "metadata": {},
   "source": [
    "by default the accounts will be created with a fee set to zero and no connection to other markets. but that can be specified differently at creation. each market can be connected to two other markets. these connections represent where the bids and offers will be go when forwarded. specifically, if an offer or bid comes from connection1 once forwarded will go to connection2 and vice versa. The market fees are specified in cents/kwh"
   ]
  },
  {
   "cell_type": "code",
   "execution_count": 8,
   "id": "c8810a95",
   "metadata": {},
   "outputs": [
    {
     "ename": "AttributeError",
     "evalue": "module 'b4p' has no attribute 'Markets'",
     "output_type": "error",
     "traceback": [
      "\u001b[0;31m---------------------------------------------------------------------------\u001b[0m",
      "\u001b[0;31mAttributeError\u001b[0m                            Traceback (most recent call last)",
      "Cell \u001b[0;32mIn [8], line 1\u001b[0m\n\u001b[0;32m----> 1\u001b[0m grid \u001b[39m=\u001b[39m b4p\u001b[39m.\u001b[39mMarkets\u001b[39m.\u001b[39mnew(\u001b[39m\"\u001b[39m\u001b[39mgrid\u001b[39m\u001b[39m\"\u001b[39m, \u001b[39m\"\u001b[39m\u001b[39madmin\u001b[39m\u001b[39m\"\u001b[39m, fee\u001b[39m=\u001b[39m\u001b[39m1\u001b[39m, connection1\u001b[39m=\u001b[39mneighborhood1, connection2\u001b[39m=\u001b[39mneighborhood2)\n",
      "\u001b[0;31mAttributeError\u001b[0m: module 'b4p' has no attribute 'Markets'"
     ]
    }
   ],
   "source": [
    "grid = b4p.Markets.new(\"grid\", \"admin\", fee=1, connection1=neighborhood1, connection2=neighborhood2)"
   ]
  },
  {
   "cell_type": "markdown",
   "id": "a690ae65",
   "metadata": {},
   "source": [
    "## Creating producing and consuming assets\n",
    "producing and consuming assets can be created by specifying a name an account and a market that's connected to it. The market that's connected to it it's the market that will receive offers and bids when created"
   ]
  },
  {
   "cell_type": "code",
   "execution_count": 9,
   "id": "94bcbc97",
   "metadata": {},
   "outputs": [
    {
     "ename": "AttributeError",
     "evalue": "module 'b4p' has no attribute 'ProducingAssets'",
     "output_type": "error",
     "traceback": [
      "\u001b[0;31m---------------------------------------------------------------------------\u001b[0m",
      "\u001b[0;31mAttributeError\u001b[0m                            Traceback (most recent call last)",
      "Cell \u001b[0;32mIn [9], line 1\u001b[0m\n\u001b[0;32m----> 1\u001b[0m solar_panel \u001b[39m=\u001b[39m b4p\u001b[39m.\u001b[39mProducingAssets\u001b[39m.\u001b[39mnew(\u001b[39m\"\u001b[39m\u001b[39msolar panel\u001b[39m\u001b[39m\"\u001b[39m, \u001b[39m\"\u001b[39m\u001b[39mproducer\u001b[39m\u001b[39m\"\u001b[39m, \u001b[39m\"\u001b[39m\u001b[39mneighborhood1\u001b[39m\u001b[39m\"\u001b[39m)\n\u001b[1;32m      2\u001b[0m load \u001b[39m=\u001b[39m b4p\u001b[39m.\u001b[39mConsumingAssets\u001b[39m.\u001b[39mnew(\u001b[39m\"\u001b[39m\u001b[39mload\u001b[39m\u001b[39m\"\u001b[39m, \u001b[39m\"\u001b[39m\u001b[39mconsumer\u001b[39m\u001b[39m\"\u001b[39m, \u001b[39m\"\u001b[39m\u001b[39mneighborhood2\u001b[39m\u001b[39m\"\u001b[39m)\n",
      "\u001b[0;31mAttributeError\u001b[0m: module 'b4p' has no attribute 'ProducingAssets'"
     ]
    }
   ],
   "source": [
    "solar_panel = b4p.ProducingAssets.new(\"solar panel\", \"producer\", \"neighborhood1\")\n",
    "load = b4p.ConsumingAssets.new(\"load\", \"consumer\", \"neighborhood2\")"
   ]
  },
  {
   "cell_type": "markdown",
   "id": "662d328e",
   "metadata": {},
   "source": [
    "market connections can be set through a function as well"
   ]
  },
  {
   "cell_type": "code",
   "execution_count": null,
   "id": "68decb40",
   "metadata": {},
   "outputs": [],
   "source": [
    "neighborhood1.setConnections(\"grid\")\n",
    "neighborhood2.setConnections(\"grid\")"
   ]
  },
  {
   "cell_type": "markdown",
   "id": "e136f2c7",
   "metadata": {},
   "source": [
    "## Creating bids/offers\n",
    "bids and offers are created with the following functions by specifying the price and the amount of energy. the bids and offer will then go to the connected markets"
   ]
  },
  {
   "cell_type": "code",
   "execution_count": null,
   "id": "b4b41865",
   "metadata": {},
   "outputs": [],
   "source": [
    "solar_panel.createOffer(7, 10)\n",
    "load.createBid(10, 10)"
   ]
  },
  {
   "cell_type": "markdown",
   "id": "cb08e7ef",
   "metadata": {},
   "source": [
    "## Forwarding bids/offers\n",
    "forwarding bids and offers can be done in the following way by specifying the id of the offer/bid. (Always 0 for now)"
   ]
  },
  {
   "cell_type": "code",
   "execution_count": null,
   "id": "646c7b0b",
   "metadata": {},
   "outputs": [],
   "source": [
    "neighborhood2.forwardBid(0)\n",
    "neighborhood1.forwardOffer(0)"
   ]
  },
  {
   "cell_type": "markdown",
   "id": "05393ee6",
   "metadata": {},
   "source": [
    "### to check the balance of accounts, assets and markets can be done the following way:"
   ]
  },
  {
   "cell_type": "code",
   "execution_count": null,
   "id": "e79e8181",
   "metadata": {},
   "outputs": [],
   "source": [
    "print(f'solar panel balance: {b4p.ProducingAssets[\"solar panel\"].balanceEURS()/100}')\n",
    "print(f'load balance: {b4p.ConsumingAssets[\"load\"].balanceEURS()/100}')\n",
    "print(f'grid market balance: {b4p.Markets[\"grid\"].balanceEURS()/100}')"
   ]
  },
  {
   "cell_type": "markdown",
   "id": "76fcab3c",
   "metadata": {},
   "source": [
    "considering that for testing purposes all accounts and smart contract start with a EURS balance of 10EUR the solar panel has now 10.9EUR since it accepted the bid for 10 kwh of energy at 0.1EUR each from the load asset which paid 1EUR of which the grid market took a fee of 0.01EUR/kwh = 0.1EUR. \n",
    "note that the balanceEURS() method returns the EURS balance with two decimal extra."
   ]
  }
 ],
 "metadata": {
  "kernelspec": {
   "display_name": "bc4p",
   "language": "python",
   "name": "python3"
  },
  "language_info": {
   "codemirror_mode": {
    "name": "ipython",
    "version": 3
   },
   "file_extension": ".py",
   "mimetype": "text/x-python",
   "name": "python",
   "nbconvert_exporter": "python",
   "pygments_lexer": "ipython3",
   "version": "3.10.4"
  },
  "vscode": {
   "interpreter": {
    "hash": "1750db6e03d20d3ef844e9a5882095fa2a679a615b673f0328d53764abbf3506"
   }
  }
 },
 "nbformat": 4,
 "nbformat_minor": 5
}
